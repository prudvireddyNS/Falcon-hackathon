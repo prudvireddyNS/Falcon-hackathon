{
 "cells": [
  {
   "cell_type": "code",
   "execution_count": 5,
   "metadata": {},
   "outputs": [],
   "source": [
    "import tempfile\n",
    "import requests\n",
    "\n",
    "def generate_image(text):\n",
    "  \n",
    "  temp_output_file = tempfile.NamedTemporaryFile(delete=False, suffix='.png')\n",
    "  output_image = temp_output_file.name\n",
    "\n",
    "  response = requests.post(\n",
    "    f\"https://api.stability.ai/v2beta/stable-image/generate/core\",\n",
    "    headers={\n",
    "        \"authorization\": f\"sk-6iUj0Jg2eeKDOpRJuDmCDSvPJdUJ6oP6qrQY3sujqR8h4ycF\",\n",
    "        \"accept\": \"image/*\"\n",
    "    },\n",
    "    files={\"none\": ''},\n",
    "    data={\n",
    "        \"prompt\": text,\n",
    "        \"output_format\": \"png\",\n",
    "        'aspect_ratio': \"3:2\"\n",
    "    },\n",
    "  )\n",
    "\n",
    "  print(response.status_code)\n",
    "  if response.status_code == 200:\n",
    "      with open(output_image, 'wb') as file:\n",
    "          file.write(response.content)\n",
    "  else:\n",
    "      raise Exception(str(response.json()))\n",
    "  return output_image"
   ]
  },
  {
   "cell_type": "code",
   "execution_count": 6,
   "metadata": {},
   "outputs": [
    {
     "name": "stdout",
     "output_type": "stream",
     "text": [
      "200\n"
     ]
    },
    {
     "data": {
      "text/plain": [
       "'C:\\\\Users\\\\prudh\\\\AppData\\\\Local\\\\Temp\\\\tmpaoj27vv4.png'"
      ]
     },
     "execution_count": 6,
     "metadata": {},
     "output_type": "execute_result"
    }
   ],
   "source": [
    "generate_image_core('dog')"
   ]
  },
  {
   "cell_type": "code",
   "execution_count": 8,
   "metadata": {},
   "outputs": [],
   "source": [
    "with open('C:\\\\Users\\\\prudh\\\\AppData\\\\Local\\\\Temp\\\\tmpaoj27vv4.png', 'rb') as f:\n",
    "    image = f.read()\n",
    "with open('image.png', 'wb') as f:\n",
    "    f.write(image)"
   ]
  },
  {
   "cell_type": "code",
   "execution_count": 68,
   "metadata": {},
   "outputs": [],
   "source": [
    "from langchain_openai import ChatOpenAI\n",
    "\n",
    "def image_prompt_agent(topic):\n",
    "\n",
    "    AI71_BASE_URL = \"https://api.ai71.ai/v1/\"\n",
    "    AI71_API_KEY = 'ai71-api-f65e97e6-af86-4de9-a667-dc61c1ef8c75'\n",
    "\n",
    "    llm = ChatOpenAI(\n",
    "        model=\"tiiuae/falcon-180b-chat\",\n",
    "        api_key=AI71_API_KEY,\n",
    "        base_url=AI71_BASE_URL,\n",
    "        # streaming=True,\n",
    "    )\n",
    "\n",
    "    blog = llm.invoke(\"write descriptive prompt for image generation. \" \n",
    "                      \"The prompt is directly given to image generation model. \"\n",
    "                      f\"The topic of the image is {topic}\")\n",
    "    return blog"
   ]
  },
  {
   "cell_type": "code",
   "execution_count": 71,
   "metadata": {},
   "outputs": [
    {
     "name": "stdout",
     "output_type": "stream",
     "text": [
      " A computer screen displaying complex mathematical equations and neural network architectures, with vibrant colors and intricate patterns representing the intricate workings of deep learning algorithms.\n"
     ]
    }
   ],
   "source": [
    "print(image_prompt_agent('Deep Learning').content.strip('###'))"
   ]
  },
  {
   "cell_type": "code",
   "execution_count": 72,
   "metadata": {},
   "outputs": [],
   "source": [
    "import os\n",
    "os.environ.get('hi')"
   ]
  },
  {
   "cell_type": "code",
   "execution_count": null,
   "metadata": {},
   "outputs": [],
   "source": []
  },
  {
   "cell_type": "code",
   "execution_count": null,
   "metadata": {},
   "outputs": [],
   "source": []
  }
 ],
 "metadata": {
  "kernelspec": {
   "display_name": "gen_ai1",
   "language": "python",
   "name": "python3"
  },
  "language_info": {
   "codemirror_mode": {
    "name": "ipython",
    "version": 3
   },
   "file_extension": ".py",
   "mimetype": "text/x-python",
   "name": "python",
   "nbconvert_exporter": "python",
   "pygments_lexer": "ipython3",
   "version": "3.10.14"
  }
 },
 "nbformat": 4,
 "nbformat_minor": 2
}
